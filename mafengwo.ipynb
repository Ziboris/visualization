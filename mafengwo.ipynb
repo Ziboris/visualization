{
 "cells": [
  {
   "cell_type": "code",
   "execution_count": 1,
   "metadata": {},
   "outputs": [],
   "source": [
    "import numpy as np\n",
    "import pandas as pd"
   ]
  },
  {
   "cell_type": "code",
   "execution_count": 2,
   "metadata": {},
   "outputs": [
    {
     "data": {
      "text/html": [
       "<div>\n",
       "<style scoped>\n",
       "    .dataframe tbody tr th:only-of-type {\n",
       "        vertical-align: middle;\n",
       "    }\n",
       "\n",
       "    .dataframe tbody tr th {\n",
       "        vertical-align: top;\n",
       "    }\n",
       "\n",
       "    .dataframe thead th {\n",
       "        text-align: right;\n",
       "    }\n",
       "</style>\n",
       "<table border=\"1\" class=\"dataframe\">\n",
       "  <thead>\n",
       "    <tr style=\"text-align: right;\">\n",
       "      <th></th>\n",
       "      <th>title</th>\n",
       "      <th>summaries</th>\n",
       "      <th>position</th>\n",
       "      <th>open</th>\n",
       "      <th>ticket</th>\n",
       "      <th>traffic</th>\n",
       "      <th>comment</th>\n",
       "      <th>site</th>\n",
       "    </tr>\n",
       "  </thead>\n",
       "  <tbody>\n",
       "    <tr>\n",
       "      <th>0</th>\n",
       "      <td>西湖</td>\n",
       "      <td>首批国家5A级旅游景区和中国十大风景名胜之一，2011年被列入世界遗产名录。以一山、二塔、三...</td>\n",
       "      <td>杭州市西湖区西湖风景名胜区</td>\n",
       "      <td>全天</td>\n",
       "      <td>免费</td>\n",
       "      <td>乘坐地铁1号线到龙翔桥站，出站步行400米步行就到西湖。乘K4、游2路苏堤站下；乘28、15...</td>\n",
       "      <td>（10701条）</td>\n",
       "      <td>http://www.toxihu.com</td>\n",
       "    </tr>\n",
       "    <tr>\n",
       "      <th>1</th>\n",
       "      <td>断桥残雪</td>\n",
       "      <td>·是《白蛇传》中许仙、白娘子的相会之地，也给这座长桥平添许多浪漫色彩。·冬雪初下，桥的阳面冰...</td>\n",
       "      <td>杭州市西湖区北山街</td>\n",
       "      <td>全天</td>\n",
       "      <td>免费</td>\n",
       "      <td>附近公交站点：断桥站——途径线路：7路；51路；52路。下车后西行30米左右即可抵达。</td>\n",
       "      <td>（3668条）</td>\n",
       "      <td>NaN</td>\n",
       "    </tr>\n",
       "    <tr>\n",
       "      <th>2</th>\n",
       "      <td>三潭印月</td>\n",
       "      <td>·又称小瀛洲，是西湖三岛中面积最大、唯一能上岛游览的一个岛，被誉为西湖第一胜境。·轮廓像“田...</td>\n",
       "      <td>杭州市西湖区西湖三潭印月</td>\n",
       "      <td>全天</td>\n",
       "      <td>联票:(包含船票、小瀛洲、三潭映月)55人民币 (1月1日-12月31日 周一-周日)</td>\n",
       "      <td>上岛游玩需要乘游船，分为豪华画舫（有空调）和普通游船两种，游玩结束后可凭票乘船返回至花港、湖...</td>\n",
       "      <td>（2767条）</td>\n",
       "      <td>NaN</td>\n",
       "    </tr>\n",
       "    <tr>\n",
       "      <th>3</th>\n",
       "      <td>曲院风荷</td>\n",
       "      <td>·西湖十景之一，其所在的风荷公园内栽培了上百个品种的荷花，夏季显出分外迷人的吸引力。·南宋时...</td>\n",
       "      <td>杭州市西湖区北山街89号</td>\n",
       "      <td>全天</td>\n",
       "      <td>免费</td>\n",
       "      <td>附近公交站点：岳庙站——途径车次：7路;27路;27路定时班;51路;52路;118路。下车...</td>\n",
       "      <td>（1962条）</td>\n",
       "      <td>NaN</td>\n",
       "    </tr>\n",
       "    <tr>\n",
       "      <th>4</th>\n",
       "      <td>浪石金滩</td>\n",
       "      <td>·浪石金滩原名桐溪漂流，如今已开辟为风情休闲旅游区，四周青峦叠嶂，四季景物各具风韵。·这里的...</td>\n",
       "      <td>杭州市桐庐县横村镇浪石村</td>\n",
       "      <td>08:00-16:00 (1月1日-12月31日 周一-周日)</td>\n",
       "      <td>成人票:50人民币 (1月1日-12月31日 周一-周日)</td>\n",
       "      <td>杭州汽车西站、南站都有客车直达桐庐长途车站，然后乘18路公交到分水江大桥的车站，再乘坐桐庐至...</td>\n",
       "      <td>（1661条）</td>\n",
       "      <td>http://www.lsbeach.com/</td>\n",
       "    </tr>\n",
       "  </tbody>\n",
       "</table>\n",
       "</div>"
      ],
      "text/plain": [
       "  title                                          summaries       position  \\\n",
       "0    西湖  首批国家5A级旅游景区和中国十大风景名胜之一，2011年被列入世界遗产名录。以一山、二塔、三...  杭州市西湖区西湖风景名胜区   \n",
       "1  断桥残雪  ·是《白蛇传》中许仙、白娘子的相会之地，也给这座长桥平添许多浪漫色彩。·冬雪初下，桥的阳面冰...      杭州市西湖区北山街   \n",
       "2  三潭印月  ·又称小瀛洲，是西湖三岛中面积最大、唯一能上岛游览的一个岛，被誉为西湖第一胜境。·轮廓像“田...   杭州市西湖区西湖三潭印月   \n",
       "3  曲院风荷  ·西湖十景之一，其所在的风荷公园内栽培了上百个品种的荷花，夏季显出分外迷人的吸引力。·南宋时...   杭州市西湖区北山街89号   \n",
       "4  浪石金滩  ·浪石金滩原名桐溪漂流，如今已开辟为风情休闲旅游区，四周青峦叠嶂，四季景物各具风韵。·这里的...   杭州市桐庐县横村镇浪石村   \n",
       "\n",
       "                              open  \\\n",
       "0                               全天   \n",
       "1                               全天   \n",
       "2                               全天   \n",
       "3                               全天   \n",
       "4  08:00-16:00 (1月1日-12月31日 周一-周日)   \n",
       "\n",
       "                                         ticket  \\\n",
       "0                                            免费   \n",
       "1                                            免费   \n",
       "2   联票:(包含船票、小瀛洲、三潭映月)55人民币 (1月1日-12月31日 周一-周日)   \n",
       "3                                            免费   \n",
       "4                 成人票:50人民币 (1月1日-12月31日 周一-周日)   \n",
       "\n",
       "                                             traffic   comment  \\\n",
       "0  乘坐地铁1号线到龙翔桥站，出站步行400米步行就到西湖。乘K4、游2路苏堤站下；乘28、15...  （10701条）   \n",
       "1        附近公交站点：断桥站——途径线路：7路；51路；52路。下车后西行30米左右即可抵达。   （3668条）   \n",
       "2  上岛游玩需要乘游船，分为豪华画舫（有空调）和普通游船两种，游玩结束后可凭票乘船返回至花港、湖...   （2767条）   \n",
       "3  附近公交站点：岳庙站——途径车次：7路;27路;27路定时班;51路;52路;118路。下车...   （1962条）   \n",
       "4  杭州汽车西站、南站都有客车直达桐庐长途车站，然后乘18路公交到分水江大桥的车站，再乘坐桐庐至...   （1661条）   \n",
       "\n",
       "                      site  \n",
       "0    http://www.toxihu.com  \n",
       "1                      NaN  \n",
       "2                      NaN  \n",
       "3                      NaN  \n",
       "4  http://www.lsbeach.com/  "
      ]
     },
     "execution_count": 2,
     "metadata": {},
     "output_type": "execute_result"
    }
   ],
   "source": [
    "spot = pd.read_csv('./data/spot.csv')\n",
    "spot.head()"
   ]
  },
  {
   "cell_type": "code",
   "execution_count": 3,
   "metadata": {},
   "outputs": [
    {
     "data": {
      "text/plain": [
       "(591, 8)"
      ]
     },
     "execution_count": 3,
     "metadata": {},
     "output_type": "execute_result"
    }
   ],
   "source": [
    "spot.shape"
   ]
  },
  {
   "cell_type": "code",
   "execution_count": null,
   "metadata": {},
   "outputs": [],
   "source": []
  }
 ],
 "metadata": {
  "kernelspec": {
   "display_name": "Python 3",
   "language": "python",
   "name": "python3"
  },
  "language_info": {
   "codemirror_mode": {
    "name": "ipython",
    "version": 3
   },
   "file_extension": ".py",
   "mimetype": "text/x-python",
   "name": "python",
   "nbconvert_exporter": "python",
   "pygments_lexer": "ipython3",
   "version": "3.6.7"
  }
 },
 "nbformat": 4,
 "nbformat_minor": 2
}
